{
 "cells": [
  {
   "cell_type": "markdown",
   "metadata": {},
   "source": [
    "# Implementing cGEM-derived functional indices"
   ]
  },
  {
   "cell_type": "markdown",
   "metadata": {},
   "source": [
    "### Researching on the community objective function\n",
    "\n",
    "How is it defined? After inspecting ```print(cgem_gurobi.solver)```, apparently as a variable and contraint like this:\n",
    "\n",
    "```text\n",
    " community_objective_equality: community_objective\n",
    "   - 0.2 Growth__TARA_ARC_108_MAG_00174\n",
    "   + 0.2 Growth__TARA_ARC_108_MAG_00174_reverse_e9527\n",
    "   - 0.4 Growth__TARA_ARC_108_MAG_00083\n",
    "   + 0.4 Growth__TARA_ARC_108_MAG_00083_reverse_f9d4e\n",
    "   - 0.3 Growth__TARA_ARC_108_MAG_00080\n",
    "   + 0.3 Growth__TARA_ARC_108_MAG_00080_reverse_ed394\n",
    "   - 0.1 Growth__TARA_ARC_108_MAG_00201\n",
    "   + 0.1 Growth__TARA_ARC_108_MAG_00201_reverse_1535b = 0\n",
    "```\n",
    "\n",
    "Which basically is just a weighted sum of all the biomass reactions of the community. The weights are the abundances of the models. The objective is to maximize the community biomass. Thus we can just include this constraint in the model when maximizing a given reaction."
   ]
  },
  {
   "cell_type": "code",
   "execution_count": 1,
   "metadata": {},
   "outputs": [
    {
     "data": {
      "text/html": [
       "\n",
       "        <table>\n",
       "            <tr>\n",
       "                <td><strong>Name</strong></td>\n",
       "                <td>test_nf</td>\n",
       "            </tr><tr>\n",
       "                <td><strong>Memory address</strong></td>\n",
       "                <td>7f348e5261a0</td>\n",
       "            </tr><tr>\n",
       "                <td><strong>Number of metabolites</strong></td>\n",
       "                <td>7670</td>\n",
       "            </tr><tr>\n",
       "                <td><strong>Number of reactions</strong></td>\n",
       "                <td>11328</td>\n",
       "            </tr><tr>\n",
       "                <td><strong>Number of genes</strong></td>\n",
       "                <td>3097</td>\n",
       "            </tr><tr>\n",
       "                <td><strong>Number of groups</strong></td>\n",
       "                <td>0</td>\n",
       "            </tr><tr>\n",
       "                <td><strong>Objective expression</strong></td>\n",
       "                <td>1.0*community_objective</td>\n",
       "            </tr><tr>\n",
       "                <td><strong>Compartments</strong></td>\n",
       "                <td>e__TARA_ARC_108_MAG_00174, p__TARA_ARC_108_MAG_00174, c__TARA_ARC_108_MAG_00174, m, e__TARA_ARC_108_MAG_00083, p__TARA_ARC_108_MAG_00083, c__TARA_ARC_108_MAG_00083, p__TARA_ARC_108_MAG_00080, c__TARA_ARC_108_MAG_00080, e__TARA_ARC_108_MAG_00080, p__TARA_ARC_108_MAG_00201, c__TARA_ARC_108_MAG_00201, e__TARA_ARC_108_MAG_00201</td>\n",
       "            </tr>\n",
       "          </table>"
      ],
      "text/plain": [
       "<Community test_nf at 0x7f348e5261a0>"
      ]
     },
     "execution_count": 1,
     "metadata": {},
     "output_type": "execute_result"
    }
   ],
   "source": [
    "from micom import load_pickle\n",
    "\n",
    "cgem_hybrid = load_pickle(\"/home/robaina/Documents/NewAtlantis/microcom/test_hybrid/test_nf.pickle\")\n",
    "cgem_hybrid"
   ]
  },
  {
   "cell_type": "code",
   "execution_count": 3,
   "metadata": {},
   "outputs": [
    {
     "data": {
      "text/plain": [
       "1.0*community_objective"
      ]
     },
     "execution_count": 3,
     "metadata": {},
     "output_type": "execute_result"
    }
   ],
   "source": [
    "cgem_hybrid.objective.expression"
   ]
  },
  {
   "cell_type": "markdown",
   "metadata": {},
   "source": [
    "### Add community ojective as a constraint\n",
    "\n",
    "Adding a new pseudo reaction should work. The reaction will be a weighted sum of all the biomass reactions of the community. The weights are the abundances of the models. The objective is to maximize the community biomass. Thus we can just include this constraint in the model when maximizing a given reaction."
   ]
  },
  {
   "cell_type": "code",
   "execution_count": 1,
   "metadata": {},
   "outputs": [],
   "source": [
    "import numpy as np\n",
    "from cobra import Model\n",
    "from micom import Community\n",
    "from optlang.symbolics import Zero, add\n",
    "from optlang import Constraint\n",
    "from typing import Dict\n",
    "\n",
    "\n",
    "def update_community_growth_bounds(\n",
    "        community_model: Community, lower_bound: float, upper_bound: float,\n",
    "        obj_id: str = \"community_objective\") -> Community:\n",
    "    \"\"\"\n",
    "    Changes the bounds of the community_growth variable in a MICOM Community model.\n",
    "\n",
    "    Parameters:\n",
    "    community_model (Community): The MICOM Community model.\n",
    "    lower_bound (float): The new lower bound for the community objective variable.\n",
    "    upper_bound (float): The new upper bound for the community objective variable.\n",
    "    obj_id (str): The ID of the community objective variable. Default: 'community_objective'\n",
    "\n",
    "    Returns:\n",
    "    Community: The MICOM Community model with the bounds of the community objective variable changed.\n",
    "    \"\"\"\n",
    "    community_obj = next(v for v in community_model.solver.variables if v.name == obj_id)\n",
    "    community_obj.lb = lower_bound\n",
    "    community_obj.ub = upper_bound\n",
    "    return community_model\n",
    "\n",
    "\n",
    "def add_weighted_flux_constraint(model: Model, reactions: Dict[str, float], lower_bound: float, upper_bound: float) -> Model:\n",
    "    \"\"\"\n",
    "    Adds a custom constraint to a COBRApy model based on the weighted sum of specified reaction fluxes.\n",
    "\n",
    "    Parameters:\n",
    "    model (Model): The COBRApy model to which the constraint will be added.\n",
    "    reactions (Dict[str, float]): A dictionary mapping reaction IDs to their respective weights in the constraint.\n",
    "    lower_bound (float): The lower bound for the constraint.\n",
    "    upper_bound (float): The upper bound for the constraint.\n",
    "\n",
    "    Returns:\n",
    "    None: The function modifies the model in-place by adding a new constraint.\n",
    "    \"\"\"\n",
    "    expression = Zero\n",
    "    for reaction_id, weight in reactions.items():\n",
    "        expression += weight * model.reactions.get_by_id(reaction_id).flux_expression\n",
    "\n",
    "    new_constraint = Constraint(expression, lb=lower_bound, ub=upper_bound)\n",
    "    model.solver.add(new_constraint)\n",
    "    return model\n",
    "\n",
    "def construct_growth_dict(model: Community) -> Dict[str, float]:\n",
    "    \"\"\"\n",
    "    Constructs a dictionary mapping growth reaction IDs to their abundances\n",
    "    based on the abundances attribute in the COBRApy model.\n",
    "\n",
    "    Parameters:\n",
    "    model (Model): Micom's Community model which contains the abundances attribute.\n",
    "\n",
    "    Returns:\n",
    "    Dict[str, float]: A dictionary where keys are growth reaction IDs and values are abundances.\n",
    "    \"\"\"\n",
    "    reactions = {}\n",
    "    abundances_series = model.abundances  # Assuming model has an attribute 'abundances' which is a Pandas Series\n",
    "\n",
    "    for taxon_id, abundance in abundances_series.items():\n",
    "        reaction_id = f\"Growth__{taxon_id}\"\n",
    "        reactions[reaction_id] = abundance\n",
    "    return reactions\n"
   ]
  },
  {
   "cell_type": "code",
   "execution_count": 14,
   "metadata": {},
   "outputs": [
    {
     "data": {
      "text/plain": [
       "{'Growth__TARA_ARC_108_MAG_00174': 0.2,\n",
       " 'Growth__TARA_ARC_108_MAG_00083': 0.4,\n",
       " 'Growth__TARA_ARC_108_MAG_00080': 0.3,\n",
       " 'Growth__TARA_ARC_108_MAG_00201': 0.1}"
      ]
     },
     "execution_count": 14,
     "metadata": {},
     "output_type": "execute_result"
    }
   ],
   "source": [
    "growth_reactions = construct_growth_dict(cgem_hybrid)\n",
    "growth_reactions"
   ]
  },
  {
   "cell_type": "code",
   "execution_count": 2,
   "metadata": {},
   "outputs": [
    {
     "data": {
      "text/html": [
       "<strong>community growth:</strong> 2.167<br><strong>status:</strong> optimal<br><strong>taxa:</strong><div>\n",
       "<style scoped>\n",
       "    .dataframe tbody tr th:only-of-type {\n",
       "        vertical-align: middle;\n",
       "    }\n",
       "\n",
       "    .dataframe tbody tr th {\n",
       "        vertical-align: top;\n",
       "    }\n",
       "\n",
       "    .dataframe thead th {\n",
       "        text-align: right;\n",
       "    }\n",
       "</style>\n",
       "<table border=\"1\" class=\"dataframe\">\n",
       "  <thead>\n",
       "    <tr style=\"text-align: right;\">\n",
       "      <th></th>\n",
       "      <th>abundance</th>\n",
       "      <th>growth_rate</th>\n",
       "      <th>reactions</th>\n",
       "      <th>metabolites</th>\n",
       "    </tr>\n",
       "    <tr>\n",
       "      <th>compartments</th>\n",
       "      <th></th>\n",
       "      <th></th>\n",
       "      <th></th>\n",
       "      <th></th>\n",
       "    </tr>\n",
       "  </thead>\n",
       "  <tbody>\n",
       "    <tr>\n",
       "      <th>TARA_ARC_108_MAG_00080</th>\n",
       "      <td>0.3</td>\n",
       "      <td>0.000000</td>\n",
       "      <td>2990</td>\n",
       "      <td>2013</td>\n",
       "    </tr>\n",
       "    <tr>\n",
       "      <th>TARA_ARC_108_MAG_00083</th>\n",
       "      <td>0.4</td>\n",
       "      <td>0.000000</td>\n",
       "      <td>2752</td>\n",
       "      <td>1825</td>\n",
       "    </tr>\n",
       "    <tr>\n",
       "      <th>TARA_ARC_108_MAG_00174</th>\n",
       "      <td>0.2</td>\n",
       "      <td>8.922886</td>\n",
       "      <td>3231</td>\n",
       "      <td>2085</td>\n",
       "    </tr>\n",
       "    <tr>\n",
       "      <th>TARA_ARC_108_MAG_00201</th>\n",
       "      <td>0.1</td>\n",
       "      <td>3.821992</td>\n",
       "      <td>1908</td>\n",
       "      <td>1300</td>\n",
       "    </tr>\n",
       "    <tr>\n",
       "      <th>medium</th>\n",
       "      <td>NaN</td>\n",
       "      <td>NaN</td>\n",
       "      <td>447</td>\n",
       "      <td>447</td>\n",
       "    </tr>\n",
       "  </tbody>\n",
       "</table>\n",
       "</div>"
      ],
      "text/plain": [
       "<CommunitySolution 2.167 at 0x7f348c484640>"
      ]
     },
     "execution_count": 2,
     "metadata": {},
     "output_type": "execute_result"
    }
   ],
   "source": [
    "cgem_hybrid.optimize()"
   ]
  },
  {
   "cell_type": "code",
   "execution_count": 46,
   "metadata": {},
   "outputs": [
    {
     "data": {
      "text/html": [
       "<strong>community growth:</strong> 1.800<br><strong>status:</strong> optimal<br><strong>taxa:</strong><div>\n",
       "<style scoped>\n",
       "    .dataframe tbody tr th:only-of-type {\n",
       "        vertical-align: middle;\n",
       "    }\n",
       "\n",
       "    .dataframe tbody tr th {\n",
       "        vertical-align: top;\n",
       "    }\n",
       "\n",
       "    .dataframe thead th {\n",
       "        text-align: right;\n",
       "    }\n",
       "</style>\n",
       "<table border=\"1\" class=\"dataframe\">\n",
       "  <thead>\n",
       "    <tr style=\"text-align: right;\">\n",
       "      <th></th>\n",
       "      <th>abundance</th>\n",
       "      <th>growth_rate</th>\n",
       "      <th>reactions</th>\n",
       "      <th>metabolites</th>\n",
       "    </tr>\n",
       "    <tr>\n",
       "      <th>compartments</th>\n",
       "      <th></th>\n",
       "      <th></th>\n",
       "      <th></th>\n",
       "      <th></th>\n",
       "    </tr>\n",
       "  </thead>\n",
       "  <tbody>\n",
       "    <tr>\n",
       "      <th>TARA_ARC_108_MAG_00080</th>\n",
       "      <td>0.3</td>\n",
       "      <td>6.0</td>\n",
       "      <td>2990</td>\n",
       "      <td>2013</td>\n",
       "    </tr>\n",
       "    <tr>\n",
       "      <th>TARA_ARC_108_MAG_00083</th>\n",
       "      <td>0.4</td>\n",
       "      <td>0.0</td>\n",
       "      <td>2752</td>\n",
       "      <td>1825</td>\n",
       "    </tr>\n",
       "    <tr>\n",
       "      <th>TARA_ARC_108_MAG_00174</th>\n",
       "      <td>0.2</td>\n",
       "      <td>0.0</td>\n",
       "      <td>3231</td>\n",
       "      <td>2085</td>\n",
       "    </tr>\n",
       "    <tr>\n",
       "      <th>TARA_ARC_108_MAG_00201</th>\n",
       "      <td>0.1</td>\n",
       "      <td>0.0</td>\n",
       "      <td>1908</td>\n",
       "      <td>1300</td>\n",
       "    </tr>\n",
       "    <tr>\n",
       "      <th>medium</th>\n",
       "      <td>NaN</td>\n",
       "      <td>NaN</td>\n",
       "      <td>447</td>\n",
       "      <td>447</td>\n",
       "    </tr>\n",
       "  </tbody>\n",
       "</table>\n",
       "</div>"
      ],
      "text/plain": [
       "<CommunitySolution 1.800 at 0x7ff3c05b4b20>"
      ]
     },
     "execution_count": 46,
     "metadata": {},
     "output_type": "execute_result"
    }
   ],
   "source": [
    "cgem_hybrid = update_community_growth_bounds(cgem_hybrid, 0.0, 1.8)\n",
    "cgem_hybrid.optimize()"
   ]
  },
  {
   "cell_type": "code",
   "execution_count": null,
   "metadata": {},
   "outputs": [],
   "source": [
    "def extremize_flux(\n",
    "        model: Model, reaction_id: str,\n",
    "        growth_lower_bound: float, growth_upper_bound: float,\n",
    "        direction: str = \"max\") -> float:\n",
    "    \"\"\"\n",
    "    Adds a constraint to a COBRApy model to extremize the flux of a specified reaction.\n",
    "\n",
    "    Parameters:\n",
    "    model (Model): The COBRApy model to which the constraint will be added.\n",
    "    reaction_id (str): The ID of the reaction whose flux will be extremized.\n",
    "    growth_lower_bound (float): The lower bound for the community objective variable.\n",
    "    growth_upper_bound (float): The upper bound for the community objective variable.\n",
    "    direction (str): The direction of the optimization. Default: 'max'\n",
    "\n",
    "    Returns:\n",
    "    float: The optimal flux of the specified reaction.\n",
    "    \"\"\"\n",
    "    model.objective = reaction_id\n",
    "    model.objective_direction = direction\n",
    "    model = update_community_growth_bounds(model, growth_lower_bound, growth_upper_bound)\n",
    "    return model.optimize().objective_value\n"
   ]
  },
  {
   "cell_type": "code",
   "execution_count": 1,
   "metadata": {},
   "outputs": [],
   "source": [
    "from cobra.flux_analysis.variability import flux_variability_analysis\n",
    "from micom import load_pickle\n",
    "\n",
    "cgem_hybrid = load_pickle(\"/home/robaina/Documents/NewAtlantis/microcom/test_hybrid/test_nf.pickle\")\n",
    "original_obj = cgem_hybrid.objective"
   ]
  },
  {
   "cell_type": "code",
   "execution_count": 18,
   "metadata": {},
   "outputs": [
    {
     "name": "stderr",
     "output_type": "stream",
     "text": [
      "/tmp/ipykernel_28119/2046264157.py:2: SettingWithCopyWarning: \n",
      "A value is trying to be set on a copy of a slice from a DataFrame\n",
      "\n",
      "See the caveats in the documentation: https://pandas.pydata.org/pandas-docs/stable/user_guide/indexing.html#returning-a-view-versus-a-copy\n",
      "  cgem_hybrid.abundances.loc[\"TARA_ARC_108_MAG_00080\"] = 0.3\n"
     ]
    },
    {
     "data": {
      "text/html": [
       "<div>\n",
       "<style scoped>\n",
       "    .dataframe tbody tr th:only-of-type {\n",
       "        vertical-align: middle;\n",
       "    }\n",
       "\n",
       "    .dataframe tbody tr th {\n",
       "        vertical-align: top;\n",
       "    }\n",
       "\n",
       "    .dataframe thead th {\n",
       "        text-align: right;\n",
       "    }\n",
       "</style>\n",
       "<table border=\"1\" class=\"dataframe\">\n",
       "  <thead>\n",
       "    <tr style=\"text-align: right;\">\n",
       "      <th></th>\n",
       "      <th>minimum</th>\n",
       "      <th>maximum</th>\n",
       "    </tr>\n",
       "  </thead>\n",
       "  <tbody>\n",
       "    <tr>\n",
       "      <th>EX_h2_m</th>\n",
       "      <td>-10.0</td>\n",
       "      <td>329.377197</td>\n",
       "    </tr>\n",
       "    <tr>\n",
       "      <th>EX_co2_m</th>\n",
       "      <td>-10.0</td>\n",
       "      <td>48.484207</td>\n",
       "    </tr>\n",
       "    <tr>\n",
       "      <th>EX_ac_m</th>\n",
       "      <td>0.0</td>\n",
       "      <td>0.000000</td>\n",
       "    </tr>\n",
       "    <tr>\n",
       "      <th>EX_tol_m</th>\n",
       "      <td>0.0</td>\n",
       "      <td>0.000000</td>\n",
       "    </tr>\n",
       "  </tbody>\n",
       "</table>\n",
       "</div>"
      ],
      "text/plain": [
       "          minimum     maximum\n",
       "EX_h2_m     -10.0  329.377197\n",
       "EX_co2_m    -10.0   48.484207\n",
       "EX_ac_m       0.0    0.000000\n",
       "EX_tol_m      0.0    0.000000"
      ]
     },
     "execution_count": 18,
     "metadata": {},
     "output_type": "execute_result"
    }
   ],
   "source": [
    "reactions = [\"EX_h2_m\", \"EX_co2_m\", \"EX_ac_m\", \"EX_tol_m\"]\n",
    "cgem_hybrid.abundances.loc[\"TARA_ARC_108_MAG_00080\"] = 0.3\n",
    "\n",
    "fva = flux_variability_analysis(\n",
    "    cgem_hybrid, reaction_list=reactions,\n",
    "    fraction_of_optimum=0.99, processes=1\n",
    "    )\n",
    "fva"
   ]
  },
  {
   "cell_type": "code",
   "execution_count": 16,
   "metadata": {},
   "outputs": [
    {
     "name": "stderr",
     "output_type": "stream",
     "text": [
      "/tmp/ipykernel_28119/3399716721.py:1: SettingWithCopyWarning: \n",
      "A value is trying to be set on a copy of a slice from a DataFrame\n",
      "\n",
      "See the caveats in the documentation: https://pandas.pydata.org/pandas-docs/stable/user_guide/indexing.html#returning-a-view-versus-a-copy\n",
      "  cgem_hybrid.abundances.loc[\"TARA_ARC_108_MAG_00080\"] = 0\n"
     ]
    },
    {
     "data": {
      "text/html": [
       "<div>\n",
       "<style scoped>\n",
       "    .dataframe tbody tr th:only-of-type {\n",
       "        vertical-align: middle;\n",
       "    }\n",
       "\n",
       "    .dataframe tbody tr th {\n",
       "        vertical-align: top;\n",
       "    }\n",
       "\n",
       "    .dataframe thead th {\n",
       "        text-align: right;\n",
       "    }\n",
       "</style>\n",
       "<table border=\"1\" class=\"dataframe\">\n",
       "  <thead>\n",
       "    <tr style=\"text-align: right;\">\n",
       "      <th></th>\n",
       "      <th>minimum</th>\n",
       "      <th>maximum</th>\n",
       "    </tr>\n",
       "  </thead>\n",
       "  <tbody>\n",
       "    <tr>\n",
       "      <th>EX_h2_m</th>\n",
       "      <td>-10.0</td>\n",
       "      <td>329.377197</td>\n",
       "    </tr>\n",
       "    <tr>\n",
       "      <th>EX_co2_m</th>\n",
       "      <td>-10.0</td>\n",
       "      <td>48.484207</td>\n",
       "    </tr>\n",
       "    <tr>\n",
       "      <th>EX_ac_m</th>\n",
       "      <td>0.0</td>\n",
       "      <td>0.000000</td>\n",
       "    </tr>\n",
       "  </tbody>\n",
       "</table>\n",
       "</div>"
      ],
      "text/plain": [
       "          minimum     maximum\n",
       "EX_h2_m     -10.0  329.377197\n",
       "EX_co2_m    -10.0   48.484207\n",
       "EX_ac_m       0.0    0.000000"
      ]
     },
     "execution_count": 16,
     "metadata": {},
     "output_type": "execute_result"
    }
   ],
   "source": [
    "cgem_hybrid.abundances.loc[\"TARA_ARC_108_MAG_00080\"] = 0\n",
    "fva = flux_variability_analysis(\n",
    "    cgem_hybrid, reaction_list=reactions,\n",
    "    fraction_of_optimum=0.99, processes=1\n",
    "    )\n",
    "fva"
   ]
  },
  {
   "cell_type": "code",
   "execution_count": null,
   "metadata": {},
   "outputs": [],
   "source": []
  },
  {
   "cell_type": "markdown",
   "metadata": {},
   "source": [
    "## Re-implement elasticity analysis based on FVA"
   ]
  },
  {
   "cell_type": "code",
   "execution_count": null,
   "metadata": {},
   "outputs": [],
   "source": []
  },
  {
   "cell_type": "markdown",
   "metadata": {},
   "source": [
    "## Sampling the flux space to compute elasticities"
   ]
  },
  {
   "cell_type": "code",
   "execution_count": null,
   "metadata": {},
   "outputs": [],
   "source": [
    "import pandas as pd\n",
    "import cobra\n",
    "\n",
    "def sample_flux_space(\n",
    "    model, n_samples: int = 1000, n_processes: int = None\n",
    "    ) -> pd.DataFrame:\n",
    "    \"\"\"\n",
    "    Sample the flux space of a self._model.\n",
    "\n",
    "    Args:\n",
    "        model (Model): The COBRApy model to sample.\n",
    "        n_samples (int, optional): The number of samples to draw. Defaults to 1000.\n",
    "        n_processes (int, optional): The number of processes to use. Defaults to None.\n",
    "\n",
    "    Returns:\n",
    "        DataFrame: A DataFrame containing the sampled fluxes.\n",
    "    \"\"\"\n",
    "    if n_processes is None:\n",
    "        n_processes = 2\n",
    "    sol = model.optimize()\n",
    "    flux_samples = cobra.sampling.sample(\n",
    "        model, n_samples, method=\"achr\", processes=n_processes\n",
    "    )\n",
    "    return flux_samples"
   ]
  }
 ],
 "metadata": {
  "kernelspec": {
   "display_name": "micom_osqp",
   "language": "python",
   "name": "python3"
  },
  "language_info": {
   "codemirror_mode": {
    "name": "ipython",
    "version": 3
   },
   "file_extension": ".py",
   "mimetype": "text/x-python",
   "name": "python",
   "nbconvert_exporter": "python",
   "pygments_lexer": "ipython3",
   "version": "3.10.13"
  }
 },
 "nbformat": 4,
 "nbformat_minor": 2
}
