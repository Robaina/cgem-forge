{
 "cells": [
  {
   "attachments": {},
   "cell_type": "markdown",
   "id": "e6c4dcb8-b4a6-4526-af40-9086cde0c1ac",
   "metadata": {},
   "source": [
    "# Converting the BIGG universal model to the new COBRAPY schema\n",
    "\n",
    "This is a short illustratin how to convert the BIGG universal model to the COBRAPY schema. Let's start downloading and reading the BIGG universal model JSON."
   ]
  },
  {
   "cell_type": "code",
   "execution_count": 1,
   "id": "15826b1d-a308-4e84-a1bf-dd97344ec4d1",
   "metadata": {},
   "outputs": [
    {
     "name": "stdout",
     "output_type": "stream",
     "text": [
      "--2023-06-19 10:30:16--  http://bigg.ucsd.edu/static/namespace/universal_model.json\n",
      "Resolving bigg.ucsd.edu (bigg.ucsd.edu)... "
     ]
    },
    {
     "name": "stdout",
     "output_type": "stream",
     "text": [
      "169.228.33.117\n",
      "Connecting to bigg.ucsd.edu (bigg.ucsd.edu)|169.228.33.117|:80... connected.\n",
      "HTTP request sent, awaiting response... 200 OK\n",
      "Length: 21454113 (20M) [application/json]\n",
      "Saving to: ‘universal_model.json’\n",
      "\n",
      "universal_model.jso 100%[===================>]  20.46M   950KB/s    in 29s     \n",
      "\n",
      "2023-06-19 10:30:47 (711 KB/s) - ‘universal_model.json’ saved [21454113/21454113]\n",
      "\n"
     ]
    },
    {
     "data": {
      "text/plain": [
       "\"{'metabolites': [{'id': '4crsol_c', 'name': 'P-Cresol', 'compartment': '', 'notes': {'original_bigg_ids': ['4crsol', '4crsol_c', '_4crsol_c']}, 'annotation': [['KEGG Compound', 'http://identifiers.org\""
      ]
     },
     "execution_count": 1,
     "metadata": {},
     "output_type": "execute_result"
    }
   ],
   "source": [
    "!wget http://bigg.ucsd.edu/static/namespace/universal_model.json\n",
    "\n",
    "import json\n",
    "\n",
    "bigg = json.load(open(\"universal_model.json\", \"r\"))\n",
    "str(bigg)[:200]"
   ]
  },
  {
   "attachments": {},
   "cell_type": "markdown",
   "id": "d9ad7da8-7164-40fb-a87e-87e2b7b7aac2",
   "metadata": {},
   "source": [
    "Here we see that the annotation are nested lists bu those need to become dicts. So let's do the conversion."
   ]
  },
  {
   "cell_type": "code",
   "execution_count": 2,
   "id": "0f28a0c1-0c2f-4f4a-b064-1b01cbfae34c",
   "metadata": {},
   "outputs": [],
   "source": [
    "from collections import defaultdict\n",
    "\n",
    "def group_annotation(bigg_annotation : list) -> dict():\n",
    "    \"\"\"Group the BIGG annoations into a dictionary.\"\"\"\n",
    "    annotations = defaultdict(lambda: list())\n",
    "    for ann in bigg_annotation:\n",
    "        try:\n",
    "            uri = ann[1].split(\"://identifiers.org/\")[1]\n",
    "            provider, ide = uri.split(\"/\")\n",
    "        except Exception:\n",
    "            continue\n",
    "        annotations[provider].append(ide)\n",
    "    return dict(annotations)\n",
    "\n",
    "for obj in [\"metabolites\", \"reactions\", \"genes\"]:\n",
    "    for species in bigg[obj]:\n",
    "        species[\"annotation\"] = group_annotation(species[\"annotation\"])"
   ]
  },
  {
   "cell_type": "code",
   "execution_count": 3,
   "id": "7645a489-4037-4e8d-a0e5-eec1882e884f",
   "metadata": {},
   "outputs": [
    {
     "data": {
      "text/plain": [
       "{'id': '4crsol_c',\n",
       " 'name': 'P-Cresol',\n",
       " 'compartment': '',\n",
       " 'notes': {'original_bigg_ids': ['4crsol', '4crsol_c', '_4crsol_c']},\n",
       " 'annotation': {'kegg.compound': ['C01468'],\n",
       "  'chebi': ['CHEBI:11981',\n",
       "   'CHEBI:17847',\n",
       "   'CHEBI:1816',\n",
       "   'CHEBI:20352',\n",
       "   'CHEBI:44726'],\n",
       "  'hmdb': ['HMDB01858', 'HMDB13762'],\n",
       "  'inchikey': ['IWDCLRJOBJJRNH-UHFFFAOYSA-N'],\n",
       "  'biocyc': ['META:CPD-108'],\n",
       "  'metanetx.chemical': ['MNXM828'],\n",
       "  'seed.compound': ['cpd01042']}}"
      ]
     },
     "execution_count": 3,
     "metadata": {},
     "output_type": "execute_result"
    }
   ],
   "source": [
    "bigg[\"metabolites\"][0]"
   ]
  },
  {
   "attachments": {},
   "cell_type": "markdown",
   "id": "d456c85f-23ff-4146-aedb-998255349155",
   "metadata": {},
   "source": [
    "This looks correct now. Let's also fix the compartments."
   ]
  },
  {
   "cell_type": "code",
   "execution_count": 4,
   "id": "b7863c4c-039e-494a-9b0d-4f239d3cac4e",
   "metadata": {},
   "outputs": [
    {
     "data": {
      "text/plain": [
       "{}"
      ]
     },
     "execution_count": 4,
     "metadata": {},
     "output_type": "execute_result"
    }
   ],
   "source": [
    "bigg[\"compartments\"]"
   ]
  },
  {
   "attachments": {},
   "cell_type": "markdown",
   "id": "9bbe09ce-ed76-4ebf-8da0-2e3f4ef6751c",
   "metadata": {},
   "source": [
    "Let's have a look what is defined really."
   ]
  },
  {
   "cell_type": "code",
   "execution_count": 5,
   "id": "d9aa55d9-ffa7-4e7b-b5c5-fb3bdc2891c5",
   "metadata": {},
   "outputs": [
    {
     "data": {
      "text/plain": [
       "{'c',\n",
       " 'cm',\n",
       " 'cx',\n",
       " 'e',\n",
       " 'f',\n",
       " 'g',\n",
       " 'h',\n",
       " 'i',\n",
       " 'im',\n",
       " 'l',\n",
       " 'm',\n",
       " 'mm',\n",
       " 'n',\n",
       " 'p',\n",
       " 'r',\n",
       " 's',\n",
       " 'u',\n",
       " 'um',\n",
       " 'v',\n",
       " 'w',\n",
       " 'x',\n",
       " 'y'}"
      ]
     },
     "execution_count": 5,
     "metadata": {},
     "output_type": "execute_result"
    }
   ],
   "source": [
    "for m in bigg[\"metabolites\"]:\n",
    "    m[\"compartment\"] = m[\"id\"].split(\"_\")[-1]\n",
    "\n",
    "compartments = set(m[\"compartment\"] for m in bigg[\"metabolites\"])    \n",
    "compartments"
   ]
  },
  {
   "attachments": {},
   "cell_type": "markdown",
   "id": "38188172-065d-4659-ade9-f1b7ad746a81",
   "metadata": {},
   "source": [
    "Now we try to annotate them with the default list in COBRAPY."
   ]
  },
  {
   "cell_type": "code",
   "execution_count": 6,
   "id": "c8adb85a-d33e-490b-81bd-b8cb45853ba7",
   "metadata": {},
   "outputs": [
    {
     "data": {
      "text/plain": [
       "{'s': 'eyespot',\n",
       " 'mm': 'mitochondrial membrane',\n",
       " 'um': 'unknown',\n",
       " 'x': 'peroxisome',\n",
       " 'r': 'unknown',\n",
       " 'im': 'mitochondrial intermembrane space',\n",
       " 'i': 'unknown',\n",
       " 'g': 'golgi',\n",
       " 'cm': 'unknown',\n",
       " 'n': 'nucleus',\n",
       " 'c': 'cytoplasm',\n",
       " 'f': 'flagellum',\n",
       " 'cx': 'unknown',\n",
       " 'e': 'extracellular',\n",
       " 'p': 'periplasm',\n",
       " 'l': 'lysosome',\n",
       " 'w': 'cell wall',\n",
       " 'y': 'unknown',\n",
       " 'm': 'mitochondrion',\n",
       " 'u': 'thylakoid',\n",
       " 'h': 'chloroplast',\n",
       " 'v': 'vacuole'}"
      ]
     },
     "execution_count": 6,
     "metadata": {},
     "output_type": "execute_result"
    }
   ],
   "source": [
    "from cobra.medium.annotations import compartment_shortlist\n",
    "bigg[\"compartments\"] = {c: compartment_shortlist.get(c, [\"unknown\"])[0] for c in compartments}\n",
    "bigg[\"compartments\"]"
   ]
  },
  {
   "attachments": {},
   "cell_type": "markdown",
   "id": "3208a9bf-1af8-41a9-b824-72bd317284af",
   "metadata": {},
   "source": [
    "Now we save the model to JSON and check whether we can read it well."
   ]
  },
  {
   "cell_type": "code",
   "execution_count": 7,
   "id": "ba5dbf59-4b86-4aef-b2c3-c1476376d82d",
   "metadata": {},
   "outputs": [],
   "source": [
    "json.dump(bigg, open(\"universal_model_cobrapy.json\", \"w\"))"
   ]
  },
  {
   "cell_type": "code",
   "execution_count": 8,
   "id": "4a0ea73e-9c22-48bb-89ba-feabe6c8e440",
   "metadata": {},
   "outputs": [
    {
     "name": "stdout",
     "output_type": "stream",
     "text": [
      "Set parameter Username\n",
      "Academic license - for non-commercial use only - expires 2023-11-05\n"
     ]
    }
   ],
   "source": [
    "from cobra.io import load_json_model\n",
    "model = load_json_model(\"universal_model_cobrapy.json\")"
   ]
  },
  {
   "cell_type": "code",
   "execution_count": 9,
   "id": "db7b0b55-f485-4c5e-bc43-6622d081ab23",
   "metadata": {},
   "outputs": [
    {
     "data": {
      "text/html": [
       "\n",
       "        <table>\n",
       "            <tr>\n",
       "                <td><strong>Name</strong></td>\n",
       "                <td>bigg_universal</td>\n",
       "            </tr><tr>\n",
       "                <td><strong>Memory address</strong></td>\n",
       "                <td>7f21fb508970</td>\n",
       "            </tr><tr>\n",
       "                <td><strong>Number of metabolites</strong></td>\n",
       "                <td>15638</td>\n",
       "            </tr><tr>\n",
       "                <td><strong>Number of reactions</strong></td>\n",
       "                <td>28301</td>\n",
       "            </tr><tr>\n",
       "                <td><strong>Number of genes</strong></td>\n",
       "                <td>0</td>\n",
       "            </tr><tr>\n",
       "                <td><strong>Number of groups</strong></td>\n",
       "                <td>0</td>\n",
       "            </tr><tr>\n",
       "                <td><strong>Objective expression</strong></td>\n",
       "                <td>0</td>\n",
       "            </tr><tr>\n",
       "                <td><strong>Compartments</strong></td>\n",
       "                <td>cytoplasm, extracellular, periplasm, mitochondrion, peroxisome, unknown, nucleus, vacuole, golgi, thylakoid, lysosome, chloroplast, eyespot, flagellum, mitochondrial intermembrane space, unknown, unknown, unknown, unknown, mitochondrial membrane, cell wall, unknown</td>\n",
       "            </tr>\n",
       "          </table>"
      ],
      "text/plain": [
       "<Model bigg_universal at 0x7f21fb508970>"
      ]
     },
     "execution_count": 9,
     "metadata": {},
     "output_type": "execute_result"
    }
   ],
   "source": [
    "model"
   ]
  },
  {
   "cell_type": "code",
   "execution_count": 10,
   "id": "4f2e85e8-3c94-4bd7-aca7-34e916bb55ca",
   "metadata": {},
   "outputs": [
    {
     "data": {
      "text/plain": [
       "{'kegg.compound': ['C01468'],\n",
       " 'chebi': ['CHEBI:11981',\n",
       "  'CHEBI:17847',\n",
       "  'CHEBI:1816',\n",
       "  'CHEBI:20352',\n",
       "  'CHEBI:44726'],\n",
       " 'hmdb': ['HMDB01858', 'HMDB13762'],\n",
       " 'inchikey': ['IWDCLRJOBJJRNH-UHFFFAOYSA-N'],\n",
       " 'biocyc': ['META:CPD-108'],\n",
       " 'metanetx.chemical': ['MNXM828'],\n",
       " 'seed.compound': ['cpd01042']}"
      ]
     },
     "execution_count": 10,
     "metadata": {},
     "output_type": "execute_result"
    }
   ],
   "source": [
    "model.metabolites[0].annotation"
   ]
  },
  {
   "cell_type": "code",
   "execution_count": 11,
   "id": "3340a9e0-e6f7-40e8-8a7b-9ffa88c3224d",
   "metadata": {},
   "outputs": [
    {
     "data": {
      "text/html": [
       "<strong><em>Optimal</em> solution with objective value 434.726</strong><br><div>\n",
       "<style scoped>\n",
       "    .dataframe tbody tr th:only-of-type {\n",
       "        vertical-align: middle;\n",
       "    }\n",
       "\n",
       "    .dataframe tbody tr th {\n",
       "        vertical-align: top;\n",
       "    }\n",
       "\n",
       "    .dataframe thead th {\n",
       "        text-align: right;\n",
       "    }\n",
       "</style>\n",
       "<table border=\"1\" class=\"dataframe\">\n",
       "  <thead>\n",
       "    <tr style=\"text-align: right;\">\n",
       "      <th></th>\n",
       "      <th>fluxes</th>\n",
       "      <th>reduced_costs</th>\n",
       "    </tr>\n",
       "  </thead>\n",
       "  <tbody>\n",
       "    <tr>\n",
       "      <th>DM_4crsol_c</th>\n",
       "      <td>0.000000</td>\n",
       "      <td>0.000000e+00</td>\n",
       "    </tr>\n",
       "    <tr>\n",
       "      <th>DM_aacald_c</th>\n",
       "      <td>0.000000</td>\n",
       "      <td>0.000000e+00</td>\n",
       "    </tr>\n",
       "    <tr>\n",
       "      <th>DM_amob_c</th>\n",
       "      <td>88.922007</td>\n",
       "      <td>0.000000e+00</td>\n",
       "    </tr>\n",
       "    <tr>\n",
       "      <th>BIOMASS_Ec_iJO1366_core_53p95M</th>\n",
       "      <td>0.000000</td>\n",
       "      <td>-5.752206e+00</td>\n",
       "    </tr>\n",
       "    <tr>\n",
       "      <th>EX_12ppd__S_e</th>\n",
       "      <td>0.000000</td>\n",
       "      <td>0.000000e+00</td>\n",
       "    </tr>\n",
       "    <tr>\n",
       "      <th>...</th>\n",
       "      <td>...</td>\n",
       "      <td>...</td>\n",
       "    </tr>\n",
       "    <tr>\n",
       "      <th>EX_LPS30__L_e</th>\n",
       "      <td>0.000000</td>\n",
       "      <td>0.000000e+00</td>\n",
       "    </tr>\n",
       "    <tr>\n",
       "      <th>GTLOA38</th>\n",
       "      <td>0.000000</td>\n",
       "      <td>0.000000e+00</td>\n",
       "    </tr>\n",
       "    <tr>\n",
       "      <th>GTGAL13RMN</th>\n",
       "      <td>0.000000</td>\n",
       "      <td>0.000000e+00</td>\n",
       "    </tr>\n",
       "    <tr>\n",
       "      <th>DM_LPS9_46_27_ST_p</th>\n",
       "      <td>0.000000</td>\n",
       "      <td>0.000000e+00</td>\n",
       "    </tr>\n",
       "    <tr>\n",
       "      <th>OA18F</th>\n",
       "      <td>0.000000</td>\n",
       "      <td>2.273737e-15</td>\n",
       "    </tr>\n",
       "  </tbody>\n",
       "</table>\n",
       "<p>28301 rows × 2 columns</p>\n",
       "</div>"
      ],
      "text/plain": [
       "<Solution 434.726 at 0x7f21f9aa4400>"
      ]
     },
     "execution_count": 11,
     "metadata": {},
     "output_type": "execute_result"
    }
   ],
   "source": [
    "model.objective = model.reactions.BIOMASS_reaction\n",
    "model.optimize()"
   ]
  },
  {
   "attachments": {},
   "cell_type": "markdown",
   "id": "990d25dd-7636-4004-95b8-924abfb5622a",
   "metadata": {},
   "source": [
    "Looks like everythings is good :)"
   ]
  },
  {
   "cell_type": "code",
   "execution_count": 13,
   "id": "48ad2ccf-8674-4b88-9f5d-0f92296ec2c4",
   "metadata": {},
   "outputs": [],
   "source": [
    "# Conver to SBML\n",
    "from cobra.io import write_sbml_model\n",
    "\n",
    "write_sbml_model(model, \"universal_model_cobrapy.xml\")"
   ]
  }
 ],
 "metadata": {
  "kernelspec": {
   "display_name": "Python 3 (ipykernel)",
   "language": "python",
   "name": "python3"
  },
  "language_info": {
   "codemirror_mode": {
    "name": "ipython",
    "version": 3
   },
   "file_extension": ".py",
   "mimetype": "text/x-python",
   "name": "python",
   "nbconvert_exporter": "python",
   "pygments_lexer": "ipython3",
   "version": "3.8.12"
  }
 },
 "nbformat": 4,
 "nbformat_minor": 5
}
