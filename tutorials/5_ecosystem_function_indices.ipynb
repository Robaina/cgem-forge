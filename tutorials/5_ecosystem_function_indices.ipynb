{
 "cells": [
  {
   "cell_type": "markdown",
   "metadata": {},
   "source": [
    "# Modeling-derived indices for ecosystem assessment\n",
    "\n",
    "\n",
    "Assessing the funcitonality of a microbial community is crucial to monitoring the status of marine ecosystems. Community Genome-scale Metabolic models (cGEMs) can help us interrogate the functional potential of a microbial community, as well as to predict functional changes upon perturbations to community structure. In the following, we will develop several indices to assess the functional potential of a microbial community, and to predict functional changes upon perturbations to community structure.\n"
   ]
  },
  {
   "cell_type": "markdown",
   "metadata": {},
   "source": [
    "## Community genome-scale metabolic models\n",
    "\n",
    "Community genome-scale metabolic models (cGEMs) are meta-models which integrate individual genome-scale metabolic models (GEMs) of species in a community. To this end, individual models shared the same external environment (with its compounds), providing a way to couple the individual model flux spaces. The following toy community model depicts three interacting species $A-C$ (i.e., GEMs) and three shared, external metabolites, $e_1-e_3$. Individual GEMs interact through boundaty reactions that export/import external metabolites into/from the shared environment. The community model is thus composed of the internal reactions of each individual model, the boundary reactions connecting the external metabolites to the internal reactions of each model, and the external compounds present in the environment. Note that an additional exchange reaction is added for each external compound, to account for other processes that may affect the concentration of external compounds, e.g., diffusion, degradation, etc.\n",
    "\n",
    "<div style=\"text-align:center; width:100%\"><img src=\"images/toy_community_model.png\" style=\"max-width:30%;\"></div>\n",
    "\n",
    "\n",
    "## Construction of the community stoichiometric matrix\n",
    "\n",
    "Let's split each individual stoichiometric matrix into the part containing its internal, $S^i_k$, and boundary reactions, $S^b_k$, connecting external to internal metabolites. Additionally, since the pool of external metabolites is shared among models, we will extract echange reactions from each individual stoichiometric matrix, and collect them into a single stoichiometric matrix, let's name it $E$. We can then represent $S^i$ as a block diagonal matrix, composed of the internal parts of each species' stoichiometric matrix:\n",
    "\n",
    "$$\n",
    "S^i = \\begin{bmatrix}\n",
    "S_1^i & 0 & \\cdots & 0 \\\\\n",
    "0 & S_2^i & \\cdots & 0 \\\\\n",
    "\\vdots & \\vdots & \\ddots & \\vdots \\\\\n",
    "0 & 0 & \\cdots & S_k^i \\\\\n",
    "\\end{bmatrix}\n",
    "$$\n",
    "\n",
    "and construct a block matrix $M$ containing $S^i$ and $E$,i.e., all shared external reactions and metabolites:\n",
    "\n",
    "$$\n",
    "M = \\begin{bmatrix}\n",
    "S^i & 0 \\\\\n",
    "0 & E \\\\\n",
    "\\end{bmatrix}.\n",
    "$$\n",
    "\n",
    "Finally, we can construct the full, community stoichiometric matrix $S_c$ like so\n",
    "\n",
    "$$\n",
    "S_c = \\begin{bmatrix}\n",
    "M & B \\\\\n",
    "\\end{bmatrix}.\n",
    "$$\n"
   ]
  },
  {
   "cell_type": "code",
   "execution_count": 1,
   "metadata": {},
   "outputs": [
    {
     "name": "stdout",
     "output_type": "stream",
     "text": [
      "Set parameter Username\n",
      "Academic license - for non-commercial use only - expires 2023-11-05\n"
     ]
    },
    {
     "data": {
      "text/html": [
       "\n",
       "        <table>\n",
       "            <tr>\n",
       "                <td><strong>Name</strong></td>\n",
       "                <td>merged_community</td>\n",
       "            </tr><tr>\n",
       "                <td><strong>Memory address</strong></td>\n",
       "                <td>7f46d81943d0</td>\n",
       "            </tr><tr>\n",
       "                <td><strong>Number of metabolites</strong></td>\n",
       "                <td>11377</td>\n",
       "            </tr><tr>\n",
       "                <td><strong>Number of reactions</strong></td>\n",
       "                <td>17668</td>\n",
       "            </tr><tr>\n",
       "                <td><strong>Number of genes</strong></td>\n",
       "                <td>5363</td>\n",
       "            </tr><tr>\n",
       "                <td><strong>Number of groups</strong></td>\n",
       "                <td>0</td>\n",
       "            </tr><tr>\n",
       "                <td><strong>Objective expression</strong></td>\n",
       "                <td>1.0*community_growth - 1.0*community_growth_reverse_7473b</td>\n",
       "            </tr><tr>\n",
       "                <td><strong>Compartments</strong></td>\n",
       "                <td>extracellular environment, cytoplasm, periplasm, cytoplasm, periplasm, cytoplasm, periplasm, cytoplasm, periplasm, cytoplasm, periplasm, cytoplasm, periplasm, cytoplasm, periplasm</td>\n",
       "            </tr>\n",
       "          </table>"
      ],
      "text/plain": [
       "<Model merged_community at 0x7f46d81943d0>"
      ]
     },
     "execution_count": 1,
     "metadata": {},
     "output_type": "execute_result"
    }
   ],
   "source": [
    "import cobra\n",
    "\n",
    "\n",
    "cgem = cobra.io.read_sbml_model(\"../results/merged_community.xml\")\n",
    "cgem"
   ]
  },
  {
   "cell_type": "markdown",
   "metadata": {},
   "source": [
    "## Metabolic Robustness Index I (MRI-I)\n",
    "\n",
    "This index measures the capacity of adaptation of a microbial community to perturbations in their composition, i.e. removal of one or several community members. Adaptability is related to functional redundancy among community members. The more redundant the community, the more robust to perturbations in their composition. Here, by functional redundancy, we mean that the community, $C = {M_1, \\dots, M_k}$ form by a collection of interacting GEMs, is able to perform a set of fundamental metabolic functions that are required to sustain the ecosystem. For instance, nitrogen fixation, primary carbon fixation, sulfate reduction, etc. We can define the collection of fundamental ecosystem metabolic tasks as a set of reactions, $F = {r_1, r_2, \\dots, r_n}$, which must be always present and potentially active in the community model. Additionally, to ensure that community members can still grow upon the perturbation, we will enforce that the biomass pseudo-reaciton of every member of the community is able to carry flux, i.e., the community is self-sufficient.\n",
    "\n",
    "We could test robustness by randomly eliminating each member in the community and then testing if the remaining community is able to sustain flux through all reactions in $F$ and still be self-sufficient under a given environment. However, by eliminating random members one by one, we are missing possible higher-order interactions, that is, submodules of more than two members that operate together to perform a required function for community growth. To account for this, we can follow a different approach, in which we will count the number of subcommunities of $C$ that meet our two requirements, since this figure is related to the robustness of the community as a whole. At one end, we have a scenario where only the entire community is able to sustain all reactions in $F$ and be self-suficient. In this case, the community as a robustness of 0, since the loss of even a single member would break our requirements. At the other end, every single species is able two meet our requirements by itself, thus interactions are not required for survival, and the robustness is at its maximum.\n",
    "\n",
    "Thus, we can define the robustness of the community as\n",
    "\n",
    "$$\n",
    "MRI_I = \\frac{1}{2^{|C|}} |C_F|,\n",
    "$$\n",
    "\n",
    "where $C_F$ is the set of all subcommunities of $C$ that meet our requirements, and $|C|$ is the number of species in the community. This index is normalized to 1, and it is 0 when the community is not robust at all, and 1 when the community is maximally robust.\n",
    "\n",
    "<div style=\"text-align:center; width:100%\"><img src=\"images/subcommunities.png\" style=\"max-width:30%;\"></div>"
   ]
  },
  {
   "cell_type": "markdown",
   "metadata": {},
   "source": [
    "## Metabolic Robustness Index II (MRI-II)\n",
    "\n",
    "The problem above may be time-consuming since it requires solving an LP for every possible subset, which scales as $2^{|C|}$, which would become unfeasible for large community sizes. We can think of a simpler index that only requires solving a single MILP. Specifically, we can aim at finding the minimum subset size among all possible subsets conditional to self-suficiency. This index would then range between 1 and $|C|$, the size of the community. Index values closer to $|C|$ would indicate a larger number of metabolic interdependencies and, hence, more fragility upon perturbations in community composition. The index would be normalized by $|C|$:\n",
    "\n",
    "$$\n",
    "MRI_{II} = \\frac{1}{|C|} \\min_{A \\subseteq C} |A|.\n",
    "$$\n",
    "\n",
    "To find the minimum subset size, we can use a MILP formulation. Let $y_i$ be a binary variable that indicates whether species $i$ is in the subset $A$ or not. Thus we have \n",
    "\n",
    "$$\n",
    "\\min_{A \\subseteq C} |A| = \\min \\sum_{i \\in C} y_i\n",
    "$$,\n",
    "\n",
    "and the following MILP formulation can be used:\n",
    "\n",
    "$$\n",
    "\\begin{align}\n",
    "\\min \\quad & \\sum_{i \\in C} y_i \\\\\n",
    "\\text{s.t.} \\quad\n",
    "& S^i v^i = 0 \\\\\n",
    "& v^i_{min} \\leq v^i \\leq v^i_{max} \\\\\n",
    "& v^i_{bio} \\geq y_i\\delta_i \\\\\n",
    "& y_i E^i_{x}min \\leq E^i_x \\leq y_i E^i_{x}max \\\\\n",
    "& y_i \\in \\{0,1\\} \\\\\n",
    "& \\forall i \\in C\n",
    "\\end{align}\n",
    "$$\n",
    "\n",
    "where $S$ is the stoichiometric matrix of the community model, $v$ is the vector of fluxes, $v_{min}$ and $v_{max}$ are the lower and upper bounds on fluxes, $v^i_{bio}$ is the biomass flux of species $i$, $\\delta_i$ is a minimum biomass threshold for species $i$, and $E^i_x$ corresponds to the exchange flux of metabolite $x$ and species $i$. The the third constraint ensures that biomass fluxes are above a minimum threshold, thus guarantiing self-suficiency, while the fourth constraint ensures that exchange fluxes are zero for species that are not in the subset."
   ]
  },
  {
   "cell_type": "markdown",
   "metadata": {},
   "source": [
    "## Identifying keynote species\n",
    "\n",
    "We could employ the two conditions defined above, i.e., performance of a minimal set of required community metabolic tasks (reactions), $F$, and self-sufficiency, i.e., positive growth of each community member, to find keynote species in the community. Keynote species would be those that are essential for the community to perform its required metabolic tasks, and maitain self-sufficiency. Thus we could remove each species, once at a time, and see if the community is still self-sufficient and able of performing all tasks in $F$. Alternative, we could rank species by the fraction of the tasks that gets lost upon removal of each species."
   ]
  },
  {
   "cell_type": "markdown",
   "metadata": {},
   "source": [
    "## Evaluating biodiversity alongside functional redundancy\n",
    "\n",
    "See: https://microbiomejournal.biomedcentral.com/articles/10.1186/s40168-018-0425-4"
   ]
  },
  {
   "cell_type": "markdown",
   "metadata": {},
   "source": [
    "## Ecological contextual information to identify BGCs\n",
    "\n",
    "a) Fully identified BGCs with representation in GEM\n",
    "\n",
    "b) Partially or not represented in GEM (only taxonomy + BGC structure)\n",
    "\n",
    "\n",
    "How can cGEMs help?\n",
    "\n",
    "* Delve into secondary metabolism capabilities of BGC-containing GEM -> hints at possible precursors \n",
    "* Analyses into BGC-GEM survival: sensitiviy analyses to removing community members"
   ]
  }
 ],
 "metadata": {
  "kernelspec": {
   "display_name": "phycogem",
   "language": "python",
   "name": "python3"
  },
  "language_info": {
   "codemirror_mode": {
    "name": "ipython",
    "version": 3
   },
   "file_extension": ".py",
   "mimetype": "text/x-python",
   "name": "python",
   "nbconvert_exporter": "python",
   "pygments_lexer": "ipython3",
   "version": "3.11.4"
  },
  "orig_nbformat": 4
 },
 "nbformat": 4,
 "nbformat_minor": 2
}
