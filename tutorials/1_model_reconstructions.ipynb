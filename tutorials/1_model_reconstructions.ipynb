{
 "cells": [
  {
   "cell_type": "markdown",
   "metadata": {},
   "source": [
    "# Reconstructing genome-scale metabolic models from genomic data\n",
    "\n",
    "We have previously seen that genome-scale metabolic models (GEMs) contain the set of all known biochemical reactions of a given organism. Further, these reactions are catalyzed by enzymes, which are encoded by genes. Therefore, we can reconstruct a GEM from genomic data, i.e. the set of genes that are present in the genome of an organism. To this end, we need a biochemical database containing reactions and associated gene protein reaction rules, and a reference sequence database to map our query sequences in the genome. This approach is implemented by the Python tool [CarveME](https://github.com/cdanielmachado/carveme), which we will use in this tutorial to reconstruct several GEMs from a set of metagenome assembled genomes (MAGs) obtained from the [Tara Oceans](http://ocean-microbiome.embl.de/companion.html) database. In particular:\n",
    "\n",
    "* TARA_ARC_108_MAG_00080, _Alteromonas sp._\n",
    "* TARA_ARC_108_MAG_00174, _Marinobacter sp._\n",
    "* TARA_ARC_108_MAG_00201, _Polaribacter sp._\n",
    "* TARA_ARC_108_MAG_00083, _Sulfitobacter sp._\n"
   ]
  },
  {
   "cell_type": "markdown",
   "metadata": {},
   "source": [
    "## CarveMe inputs: peptide sequences and universal biochemical model\n",
    "\n",
    "CarveMe requires two inputs: a set of peptide sequences and a universal biochemical model. The peptide sequences are aligned against a reference database (with Diamond's [blastx](https://github.com/bbuchfink/diamond)) to match peptide sequences with biiochemical reaction IDs in the universal biochemical database, while the latter is used as a scaffold to generate the GEM of the organism of interest. Briefly, CarveME firstly extracts the subset of reactions in the universal model that were mapped to peptide sequences in the input genome, and then performs a guided [gap-filling](https://academic.oup.com/nar/article/46/15/7542/5042022?login=false) procedure to complete the GEM with missing reactions that are required to sustain growth under a given growth medium.\n",
    "\n",
    "As an example, here are the first 10 lines of one of the input files we will use in this tutorial. It corresponds to the predicted gene sequences (translated) obtained from one of the MAGs (TARA_ARC_108_MAG_00080, corresponding to genus _Alteromonas_) using [Eggnog-mapper](http://eggnog-mapper.embl.de/):"
   ]
  },
  {
   "cell_type": "code",
   "execution_count": 15,
   "metadata": {},
   "outputs": [
    {
     "name": "stdout",
     "output_type": "stream",
     "text": [
      ">TARA_ARC_108_MAG_00080_000000000001_1 # 175 # 588 # -1 # ID=1_1;partial=00;start_type=ATG;rbs_motif=GGA/GAG/AGG;rbs_spacer=5-10bp;gc_cont=0.420\n",
      "MDSKAPKALLKAQKLANLLDTAVKLPIIPIRIGLDSIVGLIPGAGDALMLLVSLRIVWLG\n",
      "KSLGMPSALVAQMVKNSAIDFGLGFVPFIGDIVDVFYKANQKNVRLMEKWWISENKADVD\n",
      "AQTQKKLTEWEKKLDQQ*\n",
      ">TARA_ARC_108_MAG_00080_000000000001_2 # 625 # 1704 # -1 # ID=1_2;partial=00;start_type=ATG;rbs_motif=GGA/GAG/AGG;rbs_spacer=5-10bp;gc_cont=0.444\n",
      "MKFKSNQGFTHSQSDKIGVLVTNLGTPESPTAAALRPYLKEFLSDPRVVEIPRALWWFIL\n",
      "NLIILNTRPKRSAEAYKTVWTEEGSPLLTITKSQAKAIEARCKAEYGDDVVVDFAMRYGN\n",
      "PAISDTIERMLSQGVRKLVVLPLYPQYSASTTASTFDAIAKDFTKRRWLPELRFVNHYND\n",
      "RPDYIKALANKVRAYWEEHGKADKLILSYHGIPKRYLLNGDPYHCECHKTSRLLAEELGL\n",
      "THEQYMTTFQSRFGKAEWLKPYTDETMKSLPGNGVKSIQVMCPGFSADCLETIEEIGEEN\n"
     ]
    }
   ],
   "source": [
    "%%bash\n",
    "\n",
    "head -n 10 ../data/genomes/pseudo-nitzschia/TARA_ARC_108_MAG_00080.genepred.fasta"
   ]
  },
  {
   "cell_type": "markdown",
   "metadata": {},
   "source": [
    "We will employ a generic metabolic model representativve of a prokaryotic organism as the input universal metabolic model, since all MAGs in this example correspond to prokaryotic organisms. The universal model has been derived from the universal model of the [BIGG](http://bigg.ucsd.edu/) database, and aggregates biochemical reactions from multiple prokaryotic species. Let's load it in `cobrapy` and print its summary:"
   ]
  },
  {
   "cell_type": "code",
   "execution_count": 16,
   "metadata": {},
   "outputs": [
    {
     "data": {
      "text/html": [
       "\n",
       "        <table>\n",
       "            <tr>\n",
       "                <td><strong>Name</strong></td>\n",
       "                <td>bigg_universal</td>\n",
       "            </tr><tr>\n",
       "                <td><strong>Memory address</strong></td>\n",
       "                <td>7f401d48c610</td>\n",
       "            </tr><tr>\n",
       "                <td><strong>Number of metabolites</strong></td>\n",
       "                <td>6861</td>\n",
       "            </tr><tr>\n",
       "                <td><strong>Number of reactions</strong></td>\n",
       "                <td>17851</td>\n",
       "            </tr><tr>\n",
       "                <td><strong>Number of genes</strong></td>\n",
       "                <td>0</td>\n",
       "            </tr><tr>\n",
       "                <td><strong>Number of groups</strong></td>\n",
       "                <td>0</td>\n",
       "            </tr><tr>\n",
       "                <td><strong>Objective expression</strong></td>\n",
       "                <td>1.0*Growth - 1.0*Growth_reverse_699ae</td>\n",
       "            </tr><tr>\n",
       "                <td><strong>Compartments</strong></td>\n",
       "                <td>cytoplasm, periplasm, extracellular</td>\n",
       "            </tr>\n",
       "          </table>"
      ],
      "text/plain": [
       "<Model bigg_universal at 0x7f401d48c610>"
      ]
     },
     "execution_count": 16,
     "metadata": {},
     "output_type": "execute_result"
    }
   ],
   "source": [
    "import cobra\n",
    "from phycogem.reconstruction_helpers import get_medium_dict_from_media_db, get_dict_of_metabolite_ids\n",
    "\n",
    "\n",
    "universe = cobra.io.read_sbml_model(\"../data/carveme_universes/prokaryote_carveme_curated.xml\")\n",
    "universe"
   ]
  },
  {
   "cell_type": "markdown",
   "metadata": {},
   "source": [
    "We see that the universal model contains a total of 17851 reactions and 6861 metabolites, three compartments: cytosol, periplasm and extracellular, and a _Growth_ pseudo-reactions, which is tailored to prokaryotic organisms."
   ]
  },
  {
   "cell_type": "markdown",
   "metadata": {},
   "source": [
    "## Carving models\n",
    "\n",
    "We are now ready to start reconstructing GEMs for each of the input MAGs with CarveME. Note that we need to define a medium for the reconstruction, as mentioned above, this is needed for the gap-filling step, as the procedure adds missing reactions to guarantee that the reconstructed model can sustain growth in the defined medium. In this example, we will use a simple marine medium containing inorganic components, some vitamins and cofactors and a carbon source:"
   ]
  },
  {
   "cell_type": "code",
   "execution_count": 17,
   "metadata": {},
   "outputs": [
    {
     "name": "stdout",
     "output_type": "stream",
     "text": [
      "glyb: Glycine betaine\n",
      "btn: Biotin\n",
      "ca2: Calcium\n",
      "co: Carbon monoxide\n",
      "co2: CO2 CO2\n",
      "cobalt2: Co2+\n",
      "cu2: Copper\n",
      "fe2: Fe2+ mitochondria\n",
      "fe3: Iron (Fe3+)\n",
      "h2: Hydrogen\n",
      "h2o: H2O H2O\n",
      "hco3: Bicarbonate\n",
      "k: Potassium\n",
      "mg2: Magnesium\n",
      "mn2: Manganese\n",
      "n2: Nitrogen\n",
      "na1: Sodium\n",
      "nh4: Ammonium\n",
      "no2: Nitrite\n",
      "no3: Nitrate\n",
      "o2: O2 O2\n",
      "photon: Light\n",
      "pi: Phosphate\n",
      "h: H+\n",
      "so4: Sulfate\n",
      "urea: Urea CH4N2O\n",
      "zn2: Zinc\n",
      "cl: Chloride\n",
      "thm: Thiamin\n",
      "fol: Folate\n",
      "adodbl: adodbl\n",
      "cbl1: Cob(I)alamin\n",
      "glc__D: D-Glucose\n"
     ]
    }
   ],
   "source": [
    "medium_id = \"MARINE\"\n",
    "met_names = get_dict_of_metabolite_ids(\"../data/compounds/BIGG_metabolites.json\")\n",
    "\n",
    "medium = get_medium_dict_from_media_db(\n",
    "    \"../data/marine_media/media_db.tsv\",\n",
    "    medium_id\n",
    ")\n",
    "\n",
    "for rxn_ex in medium:\n",
    "    met_id = \"_\".join(\"_\".join(rxn_ex.split(\"_\")[1:]).split(\"_\")[:-1])\n",
    "    print(f\"{met_id}: {met_names[met_id] if met_id in met_names else met_id}\")"
   ]
  },
  {
   "cell_type": "code",
   "execution_count": 18,
   "metadata": {},
   "outputs": [
    {
     "name": "stdout",
     "output_type": "stream",
     "text": [
      "Running TARA_ARC_108_MAG_00080.genepred\n",
      "Running TARA_ARC_108_MAG_00083.genepred\n",
      "Running TARA_ARC_108_MAG_00117.genepred\n",
      "Running TARA_ARC_108_MAG_00139.genepred\n",
      "Running TARA_ARC_108_MAG_00174.genepred\n",
      "Running TARA_ARC_108_MAG_00179.genepred\n",
      "Running TARA_ARC_108_MAG_00201.genepred\n"
     ]
    }
   ],
   "source": [
    "%%bash\n",
    "\n",
    "GENOME_DIR=\"../data/genomes/pseudo-nitzschia/\"\n",
    "\n",
    "for genome_file in \"${GENOME_DIR}\"*.fasta; do\n",
    "    base_name=$(basename \"$genome_file\" .fasta)\n",
    "    echo \"Running $base_name\"\n",
    "    carve \\\n",
    "        --universe-file \"../data/carveme_universes/prokaryote_carveme_curated.xml\" \\\n",
    "        --solver gurobi \\\n",
    "        -o \"../results/models/${base_name}.xml\" \\\n",
    "        --init MARINE \\\n",
    "        --gapfill MARINE \\\n",
    "        --mediadb \"../data/marine_media/media_db.tsv\" \\\n",
    "        --fbc2 \\\n",
    "        \"$genome_file\" >/dev/null 2>&1\n",
    "done"
   ]
  },
  {
   "cell_type": "markdown",
   "metadata": {},
   "source": [
    "## Loading the reconstructed models in cobrapy\n",
    "\n",
    "Let's take a look at the reconstructed models in cobrapy. We will load them and optimize growth using the default flux bounds that are built into the model."
   ]
  },
  {
   "cell_type": "code",
   "execution_count": 19,
   "metadata": {},
   "outputs": [],
   "source": [
    "models = {}\n",
    "models[\"Sulfitobacter\"] = cobra.io.read_sbml_model(\n",
    "    \"../results/models/TARA_ARC_108_MAG_00083.genepred.xml\"\n",
    "    )\n",
    "models[\"Polaribacter\"] = cobra.io.read_sbml_model(\n",
    "    \"../results/models/TARA_ARC_108_MAG_00201.genepred.xml\"\n",
    "    )\n",
    "models[\"Alteromonas\"] = cobra.io.read_sbml_model(\n",
    "    \"../results/models/TARA_ARC_108_MAG_00080.genepred.xml\"\n",
    "    )\n",
    "models[\"Marinobacter\"] = cobra.io.read_sbml_model(\n",
    "    \"../results/models/TARA_ARC_108_MAG_00174.genepred.xml\"\n",
    "    )"
   ]
  },
  {
   "cell_type": "code",
   "execution_count": 20,
   "metadata": {},
   "outputs": [
    {
     "name": "stdout",
     "output_type": "stream",
     "text": [
      "Sulfitobacter\n",
      "Reactions: 2752 | Metabolites: 1825 | Max Growth: 0.34 1/h\n",
      "Polaribacter\n",
      "Reactions: 1909 | Metabolites: 1300 | Max Growth: 0.58 1/h\n",
      "Alteromonas\n",
      "Reactions: 2990 | Metabolites: 2013 | Max Growth: 1.76 1/h\n",
      "Marinobacter\n",
      "Reactions: 3231 | Metabolites: 2085 | Max Growth: 1.44 1/h\n"
     ]
    }
   ],
   "source": [
    "for genus, model in models.items():\n",
    "    max_bio = model.slim_optimize()\n",
    "    print(f\"{genus}\")\n",
    "    print(f\"Reactions: {len(model.reactions)} | Metabolites: {len(model.metabolites)} | Max Growth: {max_bio:.2f} 1/h\")"
   ]
  },
  {
   "cell_type": "markdown",
   "metadata": {},
   "source": [
    "## Merging the reconstructed models into a community (meta)model\n",
    "\n",
    "CarveME provides the utility function `merge_community`, which allows to merge multiple GEMs into a single community model. A community model is formed by a collection of individual genome-scale models, each one with its own set of reactions and metabolites, but with shared extracellular compartment and extracellular metabolites. Thus, individual models can interact through extracellular metabolites, which can be exchanged between models. To illustrate this concept, let's consider the following toy example:\n",
    "\n",
    "![toy community model](images/toy_community_model.png)\n",
    "\n",
    "The community model above is composed of three individual models, $A - C$, which share extracellular compartment and extracellular metabolites $e_1 - e_3$. Individual models can interact through the exchange of extracellular metabolites, e.g. model $A$ can export metabolite $e_1$ through reaction $v^A_e1$, which, in turn, is imported by model B through reaction $v^B_{e1}$. Note that exchange reactions, such as $EX_{e1}$, represent production or consumption of extracellular metabolites by processes that are independent of the models contained in the community.\n",
    "\n",
    "A community model is useful to study the metabolic interactions between the different organisms in the community, as well as to investigate how these interactions affect growth. Let's merge the four reconstructed models into a single community model, and then import it into cobrapy:"
   ]
  },
  {
   "cell_type": "code",
   "execution_count": 3,
   "metadata": {},
   "outputs": [
    {
     "name": "stderr",
     "output_type": "stream",
     "text": [
      "/home/robaina/.local/lib/python3.8/site-packages/reframed/core/environment.py:75: UserWarning: Exchange reaction not in model: R_EX_photon_e\n",
      "  warn(f'Exchange reaction not in model: {r_id}')\n",
      "/home/robaina/.local/lib/python3.8/site-packages/reframed/core/environment.py:75: UserWarning: Exchange reaction not in model: R_EX_n2_e\n",
      "  warn(f'Exchange reaction not in model: {r_id}')\n"
     ]
    }
   ],
   "source": [
    "%%bash\n",
    "\n",
    "merge_community \\\n",
    "    ../results/models/TARA_ARC_108*.xml \\\n",
    "    -o ../results/merged_community.xml \\\n",
    "    -i M9[marine] \\\n",
    "    --mediadb \"../data/marine_media/media_db.tsv\" \\\n",
    "    --fbc2"
   ]
  },
  {
   "cell_type": "code",
   "execution_count": 2,
   "metadata": {},
   "outputs": [
    {
     "name": "stdout",
     "output_type": "stream",
     "text": [
      "Set parameter Username\n",
      "Academic license - for non-commercial use only - expires 2023-11-05\n"
     ]
    },
    {
     "data": {
      "text/html": [
       "\n",
       "        <table>\n",
       "            <tr>\n",
       "                <td><strong>Name</strong></td>\n",
       "                <td>merged_community</td>\n",
       "            </tr><tr>\n",
       "                <td><strong>Memory address</strong></td>\n",
       "                <td>7f1c394456d0</td>\n",
       "            </tr><tr>\n",
       "                <td><strong>Number of metabolites</strong></td>\n",
       "                <td>11377</td>\n",
       "            </tr><tr>\n",
       "                <td><strong>Number of reactions</strong></td>\n",
       "                <td>17668</td>\n",
       "            </tr><tr>\n",
       "                <td><strong>Number of genes</strong></td>\n",
       "                <td>5363</td>\n",
       "            </tr><tr>\n",
       "                <td><strong>Number of groups</strong></td>\n",
       "                <td>0</td>\n",
       "            </tr><tr>\n",
       "                <td><strong>Objective expression</strong></td>\n",
       "                <td>1.0*community_growth - 1.0*community_growth_reverse_7473b</td>\n",
       "            </tr><tr>\n",
       "                <td><strong>Compartments</strong></td>\n",
       "                <td>extracellular environment, cytoplasm, periplasm, cytoplasm, periplasm, cytoplasm, periplasm, cytoplasm, periplasm, cytoplasm, periplasm, cytoplasm, periplasm, cytoplasm, periplasm</td>\n",
       "            </tr>\n",
       "          </table>"
      ],
      "text/plain": [
       "<Model merged_community at 0x7f1c394456d0>"
      ]
     },
     "execution_count": 2,
     "metadata": {},
     "output_type": "execute_result"
    }
   ],
   "source": [
    "models[\"community\"] = cobra.io.read_sbml_model(\"../results/merged_community.xml\")\n",
    "models[\"community\"]"
   ]
  },
  {
   "cell_type": "markdown",
   "metadata": {},
   "source": [
    "We can see that the community model contains a single, shared extracellular compartment and individual cytosolic and periplasmic compartments for each species in the community. Morever, CarveME's `merge_community` has created a _community_ biomass reaction, which is an additive reaction based on the individual biomass reactions of each species in the community. This reaction could be used to simulate the growth of the community as a whole. However, it is advisable to handle with care, since predicting the growth of a community depends on multiple factors, such as the relative abundance of each species in the community, the metabolic interactions between them, environmental conditions, etc. For our purposes, we can ignore the community biomass reaction, and instead, use the individual biomass reaction of each species to ensure positive growth of each species in the community."
   ]
  },
  {
   "cell_type": "markdown",
   "metadata": {},
   "source": [
    "As we saw before, the community model contains a shared extracellular space, thus a single exchange reaction for each extracellular metabolite. We can think of each of these exchanges as reactions that represent production and consumption processes of each extracellular metabolite that do not involve any of the species in the community model. Each model, however, contains its own transport reactions from the extracellular space to the cytosol, which represent the uptake of extracellular metabolites by each species. Let's use CO<sub>2</sub> as an example to illustrate this:"
   ]
  },
  {
   "cell_type": "markdown",
   "metadata": {},
   "source": [
    "Here is the single exchange reaction for CO<sub>2</sub> in the community model:"
   ]
  },
  {
   "cell_type": "code",
   "execution_count": 6,
   "metadata": {},
   "outputs": [
    {
     "name": "stderr",
     "output_type": "stream",
     "text": [
      "Could not identify an external compartment by name and choosing one with the most boundary reactions. That might be complete nonsense or change suddenly. Consider renaming your compartments using `Model.compartments` to fix this.\n"
     ]
    },
    {
     "data": {
      "text/html": [
       "\n",
       "        <table>\n",
       "            <tr>\n",
       "                <td><strong>Reaction identifier</strong></td><td>EX_co2_e</td>\n",
       "            </tr><tr>\n",
       "                <td><strong>Name</strong></td><td>R_EX_co2_e</td>\n",
       "            </tr><tr>\n",
       "                <td><strong>Memory address</strong></td>\n",
       "                <td>0x7f1c2ba87f50</td>\n",
       "            </tr><tr>\n",
       "                <td><strong>Stoichiometry</strong></td>\n",
       "                <td>\n",
       "                    <p style='text-align:right'>co2_e <=></p>\n",
       "                    <p style='text-align:right'>CO2 CO2 <=></p>\n",
       "                </td>\n",
       "            </tr><tr>\n",
       "                <td><strong>GPR</strong></td><td></td>\n",
       "            </tr><tr>\n",
       "                <td><strong>Lower bound</strong></td><td>-10.0</td>\n",
       "            </tr><tr>\n",
       "                <td><strong>Upper bound</strong></td><td>1000.0</td>\n",
       "            </tr>\n",
       "        </table>\n",
       "        "
      ],
      "text/plain": [
       "<Reaction EX_co2_e at 0x7f1c2ba87f50>"
      ]
     },
     "execution_count": 6,
     "metadata": {},
     "output_type": "execute_result"
    }
   ],
   "source": [
    "EX_co2 = [rxn for rxn in models[\"community\"].exchanges if \"co2\" in rxn.id.lower()][0]\n",
    "EX_co2"
   ]
  },
  {
   "cell_type": "markdown",
   "metadata": {},
   "source": [
    "And here all the individual reactions importing/exporting CO<sub>2</sub> from the extracellular space to the periplasm for each species in the community:"
   ]
  },
  {
   "cell_type": "code",
   "execution_count": 10,
   "metadata": {},
   "outputs": [
    {
     "name": "stdout",
     "output_type": "stream",
     "text": [
      "CO2tex_TARA_ARC_108_MAG_00080_genepred co2_e <=> co2_p_TARA_ARC_108_MAG_00080_genepred\n",
      "CO2tex_TARA_ARC_108_MAG_00083_genepred co2_e <=> co2_p_TARA_ARC_108_MAG_00083_genepred\n",
      "CO2tex_TARA_ARC_108_MAG_00117_genepred co2_e <=> co2_p_TARA_ARC_108_MAG_00117_genepred\n",
      "CO2tex_TARA_ARC_108_MAG_00139_genepred co2_e <=> co2_p_TARA_ARC_108_MAG_00139_genepred\n",
      "CO2tex_TARA_ARC_108_MAG_00179_genepred co2_e <=> co2_p_TARA_ARC_108_MAG_00179_genepred\n"
     ]
    }
   ],
   "source": [
    "co2_transports = [rxn for rxn in models[\"community\"].reactions if \"CO2tex\" in rxn.id]\n",
    "for rxn in co2_transports:\n",
    "    print(rxn.id, rxn.reaction)"
   ]
  },
  {
   "cell_type": "code",
   "execution_count": 11,
   "metadata": {},
   "outputs": [
    {
     "data": {
      "text/html": [
       "\n",
       "        <table>\n",
       "            <tr>\n",
       "                <td><strong>Reaction identifier</strong></td><td>CO2tex_TARA_ARC_108_MAG_00080_genepred</td>\n",
       "            </tr><tr>\n",
       "                <td><strong>Name</strong></td><td>CO2 transport via diffusion (extracellular to periplasm)</td>\n",
       "            </tr><tr>\n",
       "                <td><strong>Memory address</strong></td>\n",
       "                <td>0x7f1c3638b810</td>\n",
       "            </tr><tr>\n",
       "                <td><strong>Stoichiometry</strong></td>\n",
       "                <td>\n",
       "                    <p style='text-align:right'>co2_e <=> co2_p_TARA_ARC_108_MAG_00080_genepred</p>\n",
       "                    <p style='text-align:right'>CO2 CO2 <=> CO2 CO2</p>\n",
       "                </td>\n",
       "            </tr><tr>\n",
       "                <td><strong>GPR</strong></td><td>spontaneous_TARA_ARC_108_MAG_00080_genepred</td>\n",
       "            </tr><tr>\n",
       "                <td><strong>Lower bound</strong></td><td>-1000.0</td>\n",
       "            </tr><tr>\n",
       "                <td><strong>Upper bound</strong></td><td>1000.0</td>\n",
       "            </tr>\n",
       "        </table>\n",
       "        "
      ],
      "text/plain": [
       "<Reaction CO2tex_TARA_ARC_108_MAG_00080_genepred at 0x7f1c3638b810>"
      ]
     },
     "execution_count": 11,
     "metadata": {},
     "output_type": "execute_result"
    }
   ],
   "source": [
    "co2_transports[0]"
   ]
  }
 ],
 "metadata": {
  "kernelspec": {
   "display_name": "phycogem",
   "language": "python",
   "name": "python3"
  },
  "language_info": {
   "codemirror_mode": {
    "name": "ipython",
    "version": 3
   },
   "file_extension": ".py",
   "mimetype": "text/x-python",
   "name": "python",
   "nbconvert_exporter": "python",
   "pygments_lexer": "ipython3",
   "version": "3.11.4"
  },
  "orig_nbformat": 4
 },
 "nbformat": 4,
 "nbformat_minor": 2
}
