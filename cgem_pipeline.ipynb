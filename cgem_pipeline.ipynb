{
 "cells": [
  {
   "cell_type": "markdown",
   "metadata": {},
   "source": [
    "## cGEM modeling pipeline with MICOM\n",
    "\n",
    "Inputs\n",
    "- MAGs and metadata (taxonomy, relative abundance, etc.)\n",
    "- Medium composition (tsv file)\n",
    "- MICOM parameters (yaml file)\n",
    "\n",
    "Steps\n",
    "1. Reconstruct individual GEMs with CarveME -> save xmls\n",
    "2. Generate MICOM's taxonomy table for reconstructed models -> save tsv\n",
    "3. Build Community model with MICOM -> save pickle\n",
    "4. Run MICOM's grow workflow and get exchanges -> save tsv\n",
    "5. Run MICOM's elasticities workflow and get elasticities -> save tsv"
   ]
  },
  {
   "cell_type": "markdown",
   "metadata": {},
   "source": [
    "## Input files\n",
    "\n",
    "1. Directory with gene predictions translated to proteins for each MAG as faa files, with file names as MAG IDs\n",
    "2. Relative abundance as tsv file, with MAG ID, abundance, and taxonomy\n",
    "3. Medium composition as tsv file, with exchange reaction ID, and maximum uptake rate\n",
    "4. Universal model file as xml"
   ]
  },
  {
   "cell_type": "code",
   "execution_count": 1,
   "metadata": {},
   "outputs": [
    {
     "data": {
      "text/html": [
       "<div>\n",
       "<style scoped>\n",
       "    .dataframe tbody tr th:only-of-type {\n",
       "        vertical-align: middle;\n",
       "    }\n",
       "\n",
       "    .dataframe tbody tr th {\n",
       "        vertical-align: top;\n",
       "    }\n",
       "\n",
       "    .dataframe thead th {\n",
       "        text-align: right;\n",
       "    }\n",
       "</style>\n",
       "<table border=\"1\" class=\"dataframe\">\n",
       "  <thead>\n",
       "    <tr style=\"text-align: right;\">\n",
       "      <th></th>\n",
       "      <th>taxonomy</th>\n",
       "      <th>abundance</th>\n",
       "    </tr>\n",
       "    <tr>\n",
       "      <th>id</th>\n",
       "      <th></th>\n",
       "      <th></th>\n",
       "    </tr>\n",
       "  </thead>\n",
       "  <tbody>\n",
       "    <tr>\n",
       "      <th>TARA_ARC_108_MAG_00080</th>\n",
       "      <td>Alteromonas</td>\n",
       "      <td>30</td>\n",
       "    </tr>\n",
       "    <tr>\n",
       "      <th>TARA_ARC_108_MAG_00083</th>\n",
       "      <td>Sulfitobacter</td>\n",
       "      <td>40</td>\n",
       "    </tr>\n",
       "    <tr>\n",
       "      <th>TARA_ARC_108_MAG_00201</th>\n",
       "      <td>Polaribacter</td>\n",
       "      <td>10</td>\n",
       "    </tr>\n",
       "    <tr>\n",
       "      <th>TARA_ARC_108_MAG_00174</th>\n",
       "      <td>Marinobacter</td>\n",
       "      <td>20</td>\n",
       "    </tr>\n",
       "  </tbody>\n",
       "</table>\n",
       "</div>"
      ],
      "text/plain": [
       "                             taxonomy  abundance\n",
       "id                                              \n",
       "TARA_ARC_108_MAG_00080    Alteromonas         30\n",
       "TARA_ARC_108_MAG_00083  Sulfitobacter         40\n",
       "TARA_ARC_108_MAG_00201   Polaribacter         10\n",
       "TARA_ARC_108_MAG_00174   Marinobacter         20"
      ]
     },
     "execution_count": 1,
     "metadata": {},
     "output_type": "execute_result"
    }
   ],
   "source": [
    "import pandas as pd\n",
    "\n",
    "abundances = pd.read_csv(\"tests/data/abundances.tsv\", sep=\"\\t\", index_col=0)\n",
    "abundances.head()"
   ]
  },
  {
   "cell_type": "code",
   "execution_count": 2,
   "metadata": {},
   "outputs": [],
   "source": [
    "from src.helper_functions import get_medium_from_media_db\n",
    "\n",
    "medium = get_medium_from_media_db(\n",
    "    \"data/media/media_db.tsv\",\n",
    "    \"MARINE\",\n",
    "    compartment=\"m\",\n",
    "    max_uptake=10.0,\n",
    "    outfile=\"tests/results/marine_media.tsv\"\n",
    "    )"
   ]
  },
  {
   "cell_type": "markdown",
   "metadata": {},
   "source": [
    "## Reconstruction of individual GEMs"
   ]
  },
  {
   "cell_type": "code",
   "execution_count": 3,
   "metadata": {},
   "outputs": [
    {
     "name": "stdout",
     "output_type": "stream",
     "text": [
      "Running TARA_ARC_108_MAG_00080\n",
      "Running TARA_ARC_108_MAG_00083\n",
      "Running TARA_ARC_108_MAG_00174\n",
      "Running TARA_ARC_108_MAG_00201\n"
     ]
    }
   ],
   "source": [
    "%%bash\n",
    "\n",
    "GENOME_DIR=\"tests/data/genomes/\"\n",
    "\n",
    "for genome_file in \"${GENOME_DIR}\"*.fasta; do\n",
    "    base_name=$(basename \"$genome_file\" .fasta)\n",
    "    echo \"Running $base_name\"\n",
    "    carve \\\n",
    "        --universe-file \"data/universes/prokaryote_carveme_curated.xml\" \\\n",
    "        --solver gurobi \\\n",
    "        -o \"tests/gems/${base_name}.xml\" \\\n",
    "        --init MARINE \\\n",
    "        --gapfill MARINE \\\n",
    "        --mediadb \"data/media/media_db.tsv\" \\\n",
    "        --fbc2 \\\n",
    "        \"$genome_file\" >/dev/null 2>&1\n",
    "done"
   ]
  },
  {
   "cell_type": "markdown",
   "metadata": {},
   "source": [
    "## Making MICOM's taxa table"
   ]
  },
  {
   "cell_type": "code",
   "execution_count": 9,
   "metadata": {},
   "outputs": [],
   "source": [
    "%%bash\n",
    "\n",
    "python src/build_taxa_table.py \\\n",
    "    \"TARA_ARC_108\" \\\n",
    "    tests/data/abundances.tsv \\\n",
    "    tests/gems \\\n",
    "    --output tests/results/micom_database.tsv"
   ]
  },
  {
   "cell_type": "code",
   "execution_count": 10,
   "metadata": {},
   "outputs": [
    {
     "data": {
      "text/html": [
       "<div>\n",
       "<style scoped>\n",
       "    .dataframe tbody tr th:only-of-type {\n",
       "        vertical-align: middle;\n",
       "    }\n",
       "\n",
       "    .dataframe tbody tr th {\n",
       "        vertical-align: top;\n",
       "    }\n",
       "\n",
       "    .dataframe thead th {\n",
       "        text-align: right;\n",
       "    }\n",
       "</style>\n",
       "<table border=\"1\" class=\"dataframe\">\n",
       "  <thead>\n",
       "    <tr style=\"text-align: right;\">\n",
       "      <th></th>\n",
       "      <th>id</th>\n",
       "      <th>abundance</th>\n",
       "      <th>taxonomy</th>\n",
       "      <th>file</th>\n",
       "    </tr>\n",
       "    <tr>\n",
       "      <th>sample_id</th>\n",
       "      <th></th>\n",
       "      <th></th>\n",
       "      <th></th>\n",
       "      <th></th>\n",
       "    </tr>\n",
       "  </thead>\n",
       "  <tbody>\n",
       "    <tr>\n",
       "      <th>TARA_ARC_108</th>\n",
       "      <td>TARA_ARC_108_MAG_00174</td>\n",
       "      <td>20</td>\n",
       "      <td>Marinobacter</td>\n",
       "      <td>tests/gems/TARA_ARC_108_MAG_00174.xml</td>\n",
       "    </tr>\n",
       "    <tr>\n",
       "      <th>TARA_ARC_108</th>\n",
       "      <td>TARA_ARC_108_MAG_00083</td>\n",
       "      <td>40</td>\n",
       "      <td>Sulfitobacter</td>\n",
       "      <td>tests/gems/TARA_ARC_108_MAG_00083.xml</td>\n",
       "    </tr>\n",
       "    <tr>\n",
       "      <th>TARA_ARC_108</th>\n",
       "      <td>TARA_ARC_108_MAG_00080</td>\n",
       "      <td>30</td>\n",
       "      <td>Alteromonas</td>\n",
       "      <td>tests/gems/TARA_ARC_108_MAG_00080.xml</td>\n",
       "    </tr>\n",
       "    <tr>\n",
       "      <th>TARA_ARC_108</th>\n",
       "      <td>TARA_ARC_108_MAG_00201</td>\n",
       "      <td>10</td>\n",
       "      <td>Polaribacter</td>\n",
       "      <td>tests/gems/TARA_ARC_108_MAG_00201.xml</td>\n",
       "    </tr>\n",
       "  </tbody>\n",
       "</table>\n",
       "</div>"
      ],
      "text/plain": [
       "                                  id  abundance       taxonomy  \\\n",
       "sample_id                                                        \n",
       "TARA_ARC_108  TARA_ARC_108_MAG_00174         20   Marinobacter   \n",
       "TARA_ARC_108  TARA_ARC_108_MAG_00083         40  Sulfitobacter   \n",
       "TARA_ARC_108  TARA_ARC_108_MAG_00080         30    Alteromonas   \n",
       "TARA_ARC_108  TARA_ARC_108_MAG_00201         10   Polaribacter   \n",
       "\n",
       "                                               file  \n",
       "sample_id                                            \n",
       "TARA_ARC_108  tests/gems/TARA_ARC_108_MAG_00174.xml  \n",
       "TARA_ARC_108  tests/gems/TARA_ARC_108_MAG_00083.xml  \n",
       "TARA_ARC_108  tests/gems/TARA_ARC_108_MAG_00080.xml  \n",
       "TARA_ARC_108  tests/gems/TARA_ARC_108_MAG_00201.xml  "
      ]
     },
     "execution_count": 10,
     "metadata": {},
     "output_type": "execute_result"
    }
   ],
   "source": [
    "import pandas as pd\n",
    "\n",
    "taxa = pd.read_csv(\"tests/results/micom_database.tsv\", sep=\"\\t\", index_col=0)\n",
    "taxa.head()"
   ]
  },
  {
   "cell_type": "markdown",
   "metadata": {},
   "source": [
    "## Build community model"
   ]
  },
  {
   "cell_type": "code",
   "execution_count": 11,
   "metadata": {},
   "outputs": [
    {
     "name": "stdout",
     "output_type": "stream",
     "text": [
      "\u001b[2KRunning \u001b[90m━━━━━━━━━━━━━━━━━━━━━━━━━━━━━━━━━━━━━━━━\u001b[0m \u001b[35m  0%\u001b[0m \u001b[36m-:--:--\u001b[0mSet parameter Username\n",
      "Academic license - for non-commercial use only - expires 2024-11-05\n",
      "\u001b[2KRunning \u001b[90m━━━━━━━━━━━━━━━━━━━━━━━━━━━━━━━━━━━━━━━━\u001b[0m \u001b[35m100%\u001b[0m \u001b[33m0:01:10\u001b[0m\n",
      "\u001b[?25hModel building completed. Manifest:\n",
      "      sample_id                 file\n",
      "0  TARA_ARC_108  TARA_ARC_108.pickle\n"
     ]
    }
   ],
   "source": [
    "%%bash\n",
    "\n",
    "python src/build_cgem.py \\\n",
    "  tests/results/micom_database.tsv \\\n",
    "  --out_folder tests/results \\\n",
    "  --cutoff 0.01 \\\n",
    "  --threads 10 \\\n",
    "  --solver gurobi"
   ]
  },
  {
   "cell_type": "code",
   "execution_count": 12,
   "metadata": {},
   "outputs": [
    {
     "name": "stdout",
     "output_type": "stream",
     "text": [
      "Read LP format model from file /tmp/tmpu94_reb8.lp\n",
      "Reading time = 0.06 seconds\n",
      ": 7675 rows, 22657 columns, 97547 nonzeros\n"
     ]
    },
    {
     "data": {
      "text/html": [
       "\n",
       "        <table>\n",
       "            <tr>\n",
       "                <td><strong>Name</strong></td>\n",
       "                <td>TARA_ARC_108</td>\n",
       "            </tr><tr>\n",
       "                <td><strong>Memory address</strong></td>\n",
       "                <td>7fb731cfc1d0</td>\n",
       "            </tr><tr>\n",
       "                <td><strong>Number of metabolites</strong></td>\n",
       "                <td>7670</td>\n",
       "            </tr><tr>\n",
       "                <td><strong>Number of reactions</strong></td>\n",
       "                <td>11328</td>\n",
       "            </tr><tr>\n",
       "                <td><strong>Number of genes</strong></td>\n",
       "                <td>3097</td>\n",
       "            </tr><tr>\n",
       "                <td><strong>Number of groups</strong></td>\n",
       "                <td>0</td>\n",
       "            </tr><tr>\n",
       "                <td><strong>Objective expression</strong></td>\n",
       "                <td>1.0*community_objective</td>\n",
       "            </tr><tr>\n",
       "                <td><strong>Compartments</strong></td>\n",
       "                <td>e__TARA_ARC_108_MAG_00174, p__TARA_ARC_108_MAG_00174, c__TARA_ARC_108_MAG_00174, m, e__TARA_ARC_108_MAG_00083, p__TARA_ARC_108_MAG_00083, c__TARA_ARC_108_MAG_00083, p__TARA_ARC_108_MAG_00080, c__TARA_ARC_108_MAG_00080, e__TARA_ARC_108_MAG_00080, p__TARA_ARC_108_MAG_00201, c__TARA_ARC_108_MAG_00201, e__TARA_ARC_108_MAG_00201</td>\n",
       "            </tr>\n",
       "          </table>"
      ],
      "text/plain": [
       "<Community TARA_ARC_108 at 0x7fb731cfc1d0>"
      ]
     },
     "execution_count": 12,
     "metadata": {},
     "output_type": "execute_result"
    }
   ],
   "source": [
    "from micom import load_pickle\n",
    "\n",
    "cgem = load_pickle(\"tests/results/TARA_ARC_108.pickle\")\n",
    "cgem"
   ]
  },
  {
   "cell_type": "markdown",
   "metadata": {},
   "source": [
    "## Computing trophic exchanges"
   ]
  },
  {
   "cell_type": "code",
   "execution_count": 14,
   "metadata": {},
   "outputs": [
    {
     "name": "stdout",
     "output_type": "stream",
     "text": [
      "Set parameter Username\n",
      "Academic license - for non-commercial use only - expires 2024-11-05\n",
      "Read LP format model from file /tmp/tmpzp2x4rik.lp\n",
      "Reading time = 0.06 seconds\n",
      ": 7675 rows, 22657 columns, 97547 nonzeros\n",
      "\u001b[2KRunning \u001b[90m━━━━━━━━━━━━━━━━━━━━━━━━━━━━━━━━━━━━━━━━\u001b[0m \u001b[35m  0%\u001b[0m \u001b[36m-:--:--\u001b[0mRead LP format model from file /tmp/tmp0zm1l9z7.lp\n",
      "Reading time = 0.06 seconds\n",
      ": 7675 rows, 22657 columns, 97547 nonzeros\n",
      "\u001b[2KRunning \u001b[90m━━━━━━━━━━━━━━━━━━━━━━━━━━━━━━━━━━━━━━━━\u001b[0m \u001b[35m100%\u001b[0m \u001b[33m0:00:26\u001b[0m\n",
      "\u001b[?25hGrowth simulations completed.\n"
     ]
    }
   ],
   "source": [
    "%%bash\n",
    "\n",
    "python src/get_exchanges.py \\\n",
    "  tests/results/manifest.csv \\\n",
    "  tests/results \\\n",
    "  tests/results/marine_media.tsv \\\n",
    "  --tradeoff 0.5 \\\n",
    "  --threads 12 \\\n",
    "  --output tests/results/exchanges.tsv"
   ]
  },
  {
   "cell_type": "markdown",
   "metadata": {},
   "source": [
    "## Computing elasticities"
   ]
  },
  {
   "cell_type": "code",
   "execution_count": 16,
   "metadata": {},
   "outputs": [
    {
     "name": "stdout",
     "output_type": "stream",
     "text": [
      "Set parameter Username\n",
      "Academic license - for non-commercial use only - expires 2024-11-05\n",
      "Read LP format model from file /tmp/tmp4nkt7sqn.lp\n",
      "Reading time = 0.06 seconds\n",
      ": 7675 rows, 22657 columns, 97547 nonzeros\n",
      "\u001b[2KMetabolites \u001b[90m━━━━━━━━━━━━━━━━━━━━━━━━━━━━━━━━━━━━━━━━\u001b[0m \u001b[35m100%\u001b[0m \u001b[33m0:07:26\u001b[0mm \u001b[36m0:00:14\u001b[0m\n",
      "\u001b[2KTaxa \u001b[90m━━━━━━━━━━━━━━━━━━━━━━━━━━━━━━━━━━━━━━━━\u001b[0m \u001b[35m100%\u001b[0m \u001b[33m0:01:23\u001b[0mm \u001b[36m0:00:15\u001b[0m\n",
      "\u001b[?25hElasticity calculations completed.\n"
     ]
    }
   ],
   "source": [
    "%%bash\n",
    "\n",
    "python src/get_elasticities.py \\\n",
    "  tests/results/TARA_ARC_108.pickle \\\n",
    "  --fraction 0.5 \\\n",
    "  --output tests/results/elasticities.tsv"
   ]
  }
 ],
 "metadata": {
  "kernelspec": {
   "display_name": "phycogem",
   "language": "python",
   "name": "python3"
  },
  "language_info": {
   "codemirror_mode": {
    "name": "ipython",
    "version": 3
   },
   "file_extension": ".py",
   "mimetype": "text/x-python",
   "name": "python",
   "nbconvert_exporter": "python",
   "pygments_lexer": "ipython3",
   "version": "3.11.4"
  }
 },
 "nbformat": 4,
 "nbformat_minor": 2
}
